{
 "cells": [
  {
   "cell_type": "code",
   "execution_count": null,
   "metadata": {},
   "outputs": [
    {
     "name": "stderr",
     "output_type": "stream",
     "text": [
      "Using TensorFlow backend.\n"
     ]
    }
   ],
   "source": [
    "import matplotlib.pyplot as plt\n",
    "import numpy as np\n",
    "import cv2\n",
    "import tensorflow as tf\n",
    "from tensorflow import keras\n",
    "from keras import backend as K\n",
    "\n",
    "\n",
    "def exp_cam(image_model,image_array,y_pred,last_layer,num_layer): \n",
    "    \n",
    "    ## y_pred-----> predicted integer label for corresponding image array\n",
    "    ## last_layer-----> name of the last convolutional layer\n",
    "    ## num_layer-----> filter number of last convolutional layer\n",
    "    \n",
    "    m_image,heat_map=[],[]\n",
    "    image_file=image_array\n",
    "    img_model=image_model\n",
    "    pred=y_pred\n",
    "    for i in range(image_file.shape[0]): \n",
    "        \n",
    "        img=image_file[i]\n",
    "\n",
    "        last_conv_layer=img_model.get_layer(last_layer)\n",
    "\n",
    "        grads = K.gradients(img_model.output[:,pred[i]],last_conv_layer.output)[0]\n",
    "\n",
    "        pooled_grads = K.mean(grads,axis=(0,1,2))\n",
    "        iterate = K.function([img_model.input],[pooled_grads,last_conv_layer.output[0]])\n",
    "        pooled_grads_value,conv_layer_output = iterate([img.reshape(1,224,224,3)])\n",
    "\n",
    "        for i in range(num_layer):\n",
    "            conv_layer_output[:,:,i] *= pooled_grads_value[i]\n",
    "        heatmap = np.mean(conv_layer_output,axis=-1)\n",
    "\n",
    "        for x in range(heatmap.shape[0]):\n",
    "            for y in range(heatmap.shape[1]):\n",
    "                heatmap[x,y] = np.max(heatmap[x,y],0)\n",
    "\n",
    "        heatmap = np.maximum(heatmap,0)   ## generate heatmap with positive value\n",
    "        heatmap /= np.max(heatmap)\n",
    "\n",
    "        upsample = cv2.resize(heatmap,(224,224))  ## reshape the heatmap\n",
    "        upsample=np.array(upsample)\n",
    "        \n",
    "        heat_map.append(upsample)\n",
    "    \n",
    "    \n",
    "    \n",
    "   \n",
    "        mask_img=np.zeros((224,224,3)) ## create a null image matrix \n",
    "#         h_map=heat_map[f]\n",
    "#         image1=image_file[f]\n",
    "        for h in range(image_file.shape[1]):  ## highlight the corresponding image portion if output of heatmap >0\n",
    "            for w in range(image_file.shape[1]):\n",
    "                if upsample[h][w]>0:\n",
    "                    mask_img[h][w]=img[h][w]\n",
    "                else:\n",
    "                     mask_img[h][w]=np.array([0,0,0])   ### otherwise mask the image\n",
    "        m_image.append(mask_img)\n",
    "   \n",
    "    return m_image,heat_map\n",
    "\n"
   ]
  },
  {
   "cell_type": "code",
   "execution_count": null,
   "metadata": {},
   "outputs": [],
   "source": []
  }
 ],
 "metadata": {
  "kernelspec": {
   "display_name": "Python 3",
   "language": "python",
   "name": "python3"
  },
  "language_info": {
   "codemirror_mode": {
    "name": "ipython",
    "version": 3
   },
   "file_extension": ".py",
   "mimetype": "text/x-python",
   "name": "python",
   "nbconvert_exporter": "python",
   "pygments_lexer": "ipython3",
   "version": "3.7.3"
  }
 },
 "nbformat": 4,
 "nbformat_minor": 2
}
