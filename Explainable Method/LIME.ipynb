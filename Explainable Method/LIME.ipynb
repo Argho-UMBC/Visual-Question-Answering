{
 "cells": [
  {
   "cell_type": "code",
   "execution_count": 1,
   "metadata": {},
   "outputs": [],
   "source": [
    "from skimage import data\n",
    "from skimage.color import rgb2gray\n",
    "from skimage.segmentation import mark_boundaries \n",
    "import lime\n",
    "from lime import lime_image\n",
    "\n",
    "\n",
    "explainer = lime_image.LimeImageExplainer()\n",
    "\n",
    "\n",
    "def lime_exp(image_array,image_model):\n",
    "    \n",
    "    temp_lime=[]\n",
    "    lime_exp_image=[]\n",
    "    image_file=image_array\n",
    "    length=image_file.shape[0]\n",
    "    \n",
    "    \n",
    "    for image in range(length):\n",
    "        global explainer\n",
    "        \n",
    "        exp=explainer.explain_instance(image_file[image], image_model.predict, top_labels=3, hide_color=0, num_samples=1000)\n",
    "        temp, mask = exp.get_image_and_mask(exp.top_labels[0], positive_only=True, num_features=5, hide_rest=True) # \n",
    "        temp_lime.append(np.array(temp))\n",
    "\n",
    "        gray_img=rgb2gray(temp)    ## convert \n",
    "        lime_exp_image.append(np.array(gray_img))\n",
    "        \n",
    "    return np.array(lime_exp_image),temp_lime\n",
    "        \n",
    "        \n",
    "\n",
    "\n",
    "        "
   ]
  },
  {
   "cell_type": "code",
   "execution_count": null,
   "metadata": {},
   "outputs": [],
   "source": []
  }
 ],
 "metadata": {
  "kernelspec": {
   "display_name": "Python 3",
   "language": "python",
   "name": "python3"
  },
  "language_info": {
   "codemirror_mode": {
    "name": "ipython",
    "version": 3
   },
   "file_extension": ".py",
   "mimetype": "text/x-python",
   "name": "python",
   "nbconvert_exporter": "python",
   "pygments_lexer": "ipython3",
   "version": "3.7.3"
  }
 },
 "nbformat": 4,
 "nbformat_minor": 2
}
