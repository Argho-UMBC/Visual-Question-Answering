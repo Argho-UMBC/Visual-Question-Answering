{
 "cells": [
  {
   "cell_type": "code",
   "execution_count": 1,
   "metadata": {},
   "outputs": [
    {
     "name": "stderr",
     "output_type": "stream",
     "text": [
      "Using TensorFlow backend.\n"
     ]
    }
   ],
   "source": [
    "import innvestigate\n",
    "\n",
    "\n",
    "def exp_img(image_model,method,image_array): \n",
    "    \n",
    "    model = innvestigate.utils.model_wo_softmax(image_model)\n",
    "\n",
    "    # Applying the analyzer\n",
    "\n",
    "#     method=['input', 'random', 'gradient', 'gradient.baseline', 'deconvnet', 'lrp.z', 'lrp.z_IB', 'lrp.epsilon', 'lrp.epsilon_IB', 'lrp.w_square', 'lrp.flat', 'deep_taylor', 'deep_taylor.bounded', 'deep_lift.wrapper']\n",
    "    x=innvestigate.create_analyzer(method, model)\n",
    "    output=[]\n",
    "    for i in range(image.shape[0]):\n",
    "        pre=image[i].reshape(1,224,224,3)\n",
    "        analysis = x.analyze(pre)\n",
    "        analysis = analysis.sum(axis=np.argmax(np.asarray(analysis.shape) == 3))\n",
    "        analysis /= np.max(np.abs(analysis))\n",
    "        output.append(np.array(analysis))\n",
    "        \n",
    "    return np.array(output)\n",
    "\n",
    "\n"
   ]
  },
  {
   "cell_type": "code",
   "execution_count": null,
   "metadata": {},
   "outputs": [],
   "source": []
  }
 ],
 "metadata": {
  "kernelspec": {
   "display_name": "Python 3",
   "language": "python",
   "name": "python3"
  },
  "language_info": {
   "codemirror_mode": {
    "name": "ipython",
    "version": 3
   },
   "file_extension": ".py",
   "mimetype": "text/x-python",
   "name": "python",
   "nbconvert_exporter": "python",
   "pygments_lexer": "ipython3",
   "version": "3.7.3"
  }
 },
 "nbformat": 4,
 "nbformat_minor": 2
}
