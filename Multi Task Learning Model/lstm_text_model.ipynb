{
 "cells": [
  {
   "cell_type": "code",
   "execution_count": 2,
   "metadata": {},
   "outputs": [],
   "source": [
    "import tensorflow as tf\n",
    "from tensorflow import keras\n",
    "from keras.models import Sequential,Model,load_model\n",
    "from keras.layers import Input, Dense, Activation, Dropout, LSTM, Flatten, Embedding, merge,TimeDistributed,concatenate,Bidirectional,Reshape\n",
    "\n",
    "\n",
    "def lstm_text_model(embedding_matrix,number_of_token,length_of_question):\n",
    "    y_input=Input((length_of_question,))\n",
    "    y=Embedding(number_of_token,100,weights=[embedding_matrix], input_length=length_of_question, trainable=True,mask_zero=True)(y_input)\n",
    "    y=LSTM(units=1024, return_sequences=True,activation=\"tanh\")(y)\n",
    "    y=LSTM(units=1024, return_sequences=False,activation=\"tanh\")(y)\n",
    "#     y=Reshape((length_of_question,1,1024))(y)\n",
    "\n",
    "#     y=Convolution2D(512,(1,1))(y)\n",
    "#     y=Activation(\"relu\")(y)\n",
    "#     y=Convolution2D(2,(1,1))(y)\n",
    "#     y=Reshape()(y)\n",
    "    \n",
    "# \n",
    "    model_txt=Model(inputs=y_input,outputs=y)\n",
    "#     outpt=model_txt.output.reshape(length_of_question,1,1024)\n",
    "#     model_txt.add(Embedding(number_of_token,100,weights=[embedding_matrix], input_length=length_of_question, trainable=True,mask_zero=True))\n",
    "#     model_txt.add(LSTM(units=1024, return_sequences=True, input_shape=(length_of_question, 100)))\n",
    "#     model_txt.add(LSTM(units=1024, return_sequences=True))    \n",
    "#     model_txt.add(Activation(\"tanh\"))   \n",
    "    return model_txt "
   ]
  },
  {
   "cell_type": "code",
   "execution_count": null,
   "metadata": {},
   "outputs": [],
   "source": []
  }
 ],
 "metadata": {
  "kernelspec": {
   "display_name": "Python 3",
   "language": "python",
   "name": "python3"
  },
  "language_info": {
   "codemirror_mode": {
    "name": "ipython",
    "version": 3
   },
   "file_extension": ".py",
   "mimetype": "text/x-python",
   "name": "python",
   "nbconvert_exporter": "python",
   "pygments_lexer": "ipython3",
   "version": "3.7.3"
  }
 },
 "nbformat": 4,
 "nbformat_minor": 2
}
